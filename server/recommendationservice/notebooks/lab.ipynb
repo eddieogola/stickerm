{
 "cells": [
  {
   "cell_type": "code",
   "execution_count": 3,
   "id": "2f61a811-d414-43f2-b29a-e98a3516d607",
   "metadata": {},
   "outputs": [],
   "source": [
    "!uv pip install -Uqq fastbook"
   ]
  },
  {
   "cell_type": "code",
   "execution_count": 4,
   "id": "5320c284-0d82-4f26-9973-b76e644d589d",
   "metadata": {},
   "outputs": [],
   "source": [
    "import fastbook"
   ]
  },
  {
   "cell_type": "code",
   "execution_count": null,
   "id": "80d82ae8-3c81-4d20-a72f-03bd1f2db0ae",
   "metadata": {},
   "outputs": [],
   "source": []
  }
 ],
 "metadata": {
  "kernelspec": {
   "display_name": "Python 3 (ipykernel)",
   "language": "python",
   "name": "python3"
  },
  "language_info": {
   "codemirror_mode": {
    "name": "ipython",
    "version": 3
   },
   "file_extension": ".py",
   "mimetype": "text/x-python",
   "name": "python",
   "nbconvert_exporter": "python",
   "pygments_lexer": "ipython3",
   "version": "3.11.13"
  }
 },
 "nbformat": 4,
 "nbformat_minor": 5
}
